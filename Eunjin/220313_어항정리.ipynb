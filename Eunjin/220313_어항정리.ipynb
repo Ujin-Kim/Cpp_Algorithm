{
 "cells": [
  {
   "cell_type": "markdown",
   "metadata": {},
   "source": [
    "어항 정리\n",
    "\n",
    "입력 :\n",
    "8 7\n",
    "5 2 3 14 9 2 11 8\n",
    "출력 :\n",
    "1"
   ]
  },
  {
   "cell_type": "code",
   "execution_count": 307,
   "metadata": {},
   "outputs": [
    {
     "data": {
      "text/plain": [
       "[5, 3, 3, 14, 9, 3, 11, 8]"
      ]
     },
     "execution_count": 307,
     "metadata": {},
     "output_type": "execute_result"
    }
   ],
   "source": [
    "# 1단계 : 가장 적은 물고기가 들어 있는 어항에 물고기 수 1 증가\n",
    "def plus_one(arr, N):\n",
    "    for i in range(N):\n",
    "        if arr[i] == min(arr):\n",
    "            arr[i] += 1\n",
    "    return arr\n",
    "\n",
    "plus_one([5,2,3,14,9,2,11,8],8)"
   ]
  },
  {
   "cell_type": "code",
   "execution_count": 316,
   "metadata": {},
   "outputs": [
    {
     "name": "stdout",
     "output_type": "stream",
     "text": [
      "arr_tmp1 : [2, 2, 3, 3, 4, 4, 5, 5]\n",
      "arr_tmp2 : [1, 2, 2, 3, 3, 4, 4, 5]\n",
      "i_count : 2\n",
      "tank : [[5, 3, 3, 14, 9, 3, 11, 8], [0, 5, 3, 5, 14, 5, 0, 0], [0, 0, 0, 0, 3, 3, 0, 0], [0, 0, 0, 0, 0, 0, 0, 0], [0, 0, 0, 0, 0, 0, 0, 0]]\n"
     ]
    },
    {
     "data": {
      "text/plain": [
       "[[9, 3, 11, 8], [14, 5, 0, 0], [3, 3, 0, 0]]"
      ]
     },
     "execution_count": 316,
     "metadata": {},
     "output_type": "execute_result"
    }
   ],
   "source": [
    "# 2단계 : 어항(tank) 정리하기\n",
    "def tank_arr(arr,N):\n",
    "    tank = [[0]*N for _ in range(N//2+1)]\n",
    "    tank[0] = arr\n",
    "    tank[1][1] = arr[0]\n",
    "    \n",
    "    # 어항 왼쪽부터 말아 올리기\n",
    "    arr_tmp1 = []\n",
    "    for i in range(N//2):\n",
    "        arr_tmp1.append(i+2)\n",
    "        arr_tmp1.append(i+2)\n",
    "    print('arr_tmp1 :',arr_tmp1)\n",
    "    arr_tmp2 = [1]+arr_tmp1[:-1]\n",
    "    print('arr_tmp2 :',arr_tmp2)\n",
    "    \n",
    "    for i in range(len(arr_tmp1)):\n",
    "        if N - arr_tmp1[i] * arr_tmp2[i] < arr_tmp1[i]:\n",
    "            print('i_count :',i)\n",
    "            i_count = i\n",
    "            break\n",
    "        for j in range(arr_tmp1[i]):\n",
    "            for k in range(arr_tmp2[i]):\n",
    "                tank[arr_tmp2[i]-1-k+1][j+arr_tmp1[i]*arr_tmp2[i]] = tank[j][k+arr_tmp1[i]*arr_tmp2[i]-arr_tmp2[i]]\n",
    "    \n",
    "    print('tank :',tank)\n",
    "    arr_tmp3 = []\n",
    "    for i in range(arr_tmp1[i_count]):\n",
    "        arr_tmp3.append(tank[i][arr_tmp1[i_count-1]*arr_tmp2[i_count-1]:])\n",
    "    return arr_tmp3\n",
    "\n",
    "tank_arr([5, 3, 3, 14, 9, 3, 11, 8],8)"
   ]
  },
  {
   "cell_type": "code",
   "execution_count": 318,
   "metadata": {
    "scrolled": true
   },
   "outputs": [
    {
     "data": {
      "text/plain": [
       "[[9, 5, 10, 8], [10, 6, 0, 0], [5, 3, 0, 0]]"
      ]
     },
     "execution_count": 318,
     "metadata": {},
     "output_type": "execute_result"
    }
   ],
   "source": [
    "# 3단계 : 물고기 수 정리하기\n",
    "def fish_arr(arr):\n",
    "    r = len(arr)\n",
    "    c = len(arr[0])\n",
    "    fish_arr = [[0]*c for _ in range(r)]\n",
    "    \n",
    "    for i in range(r):\n",
    "        for j in range(c):\n",
    "            if arr[i][j]==0: break\n",
    "            if i>0:\n",
    "                if arr[i][j]-arr[i-1][j]>=0:\n",
    "                    fish_arr[i][j] -= (arr[i][j]-arr[i-1][j])//5\n",
    "                else:\n",
    "                    fish_arr[i][j] += (arr[i-1][j]-arr[i][j])//5\n",
    "                if arr[i-1][j]-arr[i][j]>=0:\n",
    "                    fish_arr[i-1][j] -= (arr[i-1][j]-arr[i][j])//5\n",
    "                else:\n",
    "                    fish_arr[i-1][j] += (arr[i][j]-arr[i-1][j])//5\n",
    "            if j>0:\n",
    "                if arr[i][j]-arr[i][j-1]>=0:\n",
    "                    fish_arr[i][j] -= (arr[i][j]-arr[i][j-1])//5\n",
    "                else:\n",
    "                    fish_arr[i][j] += (arr[i][j-1]-arr[i][j])//5\n",
    "                if arr[i][j-1]-arr[i][j]>=0:\n",
    "                    fish_arr[i][j-1] -= (arr[i][j-1]-arr[i][j])//5\n",
    "                else:\n",
    "                    fish_arr[i][j-1] += (arr[i][j]-arr[i][j-1])//5\n",
    "    \n",
    "    return [[c+d for c,d in zip(a,b)] for a,b in zip(arr,fish_arr)]\n",
    "                \n",
    "\n",
    "fish_arr([[9, 3, 11, 8], [14, 5, 0, 0], [3, 3, 0, 0]])"
   ]
  },
  {
   "cell_type": "code",
   "execution_count": 319,
   "metadata": {},
   "outputs": [
    {
     "data": {
      "text/plain": [
       "[9, 10, 5, 5, 6, 3, 10, 8]"
      ]
     },
     "execution_count": 319,
     "metadata": {},
     "output_type": "execute_result"
    }
   ],
   "source": [
    "# 4단계 : 배열 일렬로 나열하기\n",
    "def one_low(arr):\n",
    "    arr_tmp = []\n",
    "    \n",
    "    r = len(arr)\n",
    "    c = len(arr[0])\n",
    "    for i in range(c):\n",
    "        for j in range(r):\n",
    "            if arr[j][i]!=0:\n",
    "                arr_tmp.append(arr[j][i])\n",
    "    return arr_tmp\n",
    "    \n",
    "one_low([[9, 5, 10, 8], [10, 6, 0, 0], [5, 3, 0, 0]])"
   ]
  },
  {
   "cell_type": "code",
   "execution_count": 320,
   "metadata": {},
   "outputs": [
    {
     "data": {
      "text/plain": [
       "[[10, 8], [10, 9], [5, 5], [3, 6]]"
      ]
     },
     "execution_count": 320,
     "metadata": {},
     "output_type": "execute_result"
    }
   ],
   "source": [
    "# 5단계 : 배열 정리하기\n",
    "def arr_arr(arr):\n",
    "    arr_tmp1 = [[] for i in range(2)]\n",
    "    arr_tmp2 = [[] for i in range(4)]\n",
    "    \n",
    "    arr_tmp1[0] = arr[len(arr)//2:]\n",
    "    for i in range(len(arr)//2):\n",
    "        arr_tmp1[1].append(arr[len(arr)//2-1-i])\n",
    "    \n",
    "    arr_tmp2[0] = arr_tmp1[0][len(arr_tmp1[0])//2:]\n",
    "    arr_tmp2[1] = arr_tmp1[1][len(arr_tmp1[1])//2:]\n",
    "    for i in range(len(arr_tmp1[0])//2):\n",
    "        arr_tmp2[2].append(arr_tmp1[1][len(arr_tmp1[0])//2-1-i])\n",
    "        arr_tmp2[3].append(arr_tmp1[0][len(arr_tmp1[0])//2-1-i])\n",
    "    \n",
    "    return arr_tmp2\n",
    "    \n",
    "arr_arr([9, 10, 5, 5, 6, 3, 10, 8])"
   ]
  },
  {
   "cell_type": "code",
   "execution_count": 321,
   "metadata": {},
   "outputs": [
    {
     "data": {
      "text/plain": [
       "[[10, 8], [9, 9], [6, 5], [3, 6]]"
      ]
     },
     "execution_count": 321,
     "metadata": {},
     "output_type": "execute_result"
    }
   ],
   "source": [
    "# 6단계 : 물고기 수 정리하기\n",
    "fish_arr([[10, 8], [10, 9], [5, 5], [3, 6]])"
   ]
  },
  {
   "cell_type": "code",
   "execution_count": 322,
   "metadata": {},
   "outputs": [
    {
     "data": {
      "text/plain": [
       "[10, 9, 6, 3, 8, 9, 5, 6]"
      ]
     },
     "execution_count": 322,
     "metadata": {},
     "output_type": "execute_result"
    }
   ],
   "source": [
    "# 7단계 : 배열 일렬로 나열하기\n",
    "one_low([[10, 8], [9, 9], [6, 5], [3, 6]])"
   ]
  },
  {
   "cell_type": "code",
   "execution_count": null,
   "metadata": {},
   "outputs": [],
   "source": []
  },
  {
   "cell_type": "code",
   "execution_count": null,
   "metadata": {},
   "outputs": [],
   "source": []
  },
  {
   "cell_type": "code",
   "execution_count": 325,
   "metadata": {
    "scrolled": true
   },
   "outputs": [
    {
     "name": "stdout",
     "output_type": "stream",
     "text": [
      "8 7\n",
      "5 2 3 14 9 2 11 8\n",
      "1\n"
     ]
    }
   ],
   "source": [
    "# 1단계 : 가장 적은 물고기가 들어 있는 어항에 물고기 수 1 증가\n",
    "def plus_one(arr, N):\n",
    "    for i in range(N):\n",
    "        if arr[i] == min(arr):\n",
    "            arr[i] += 1\n",
    "    return arr\n",
    "\n",
    "# 2단계 : 어항(tank) 정리하기\n",
    "def tank_arr(arr,N):\n",
    "    tank = [[0]*N for _ in range(N//2+1)]\n",
    "    tank[0] = arr\n",
    "    tank[1][1] = arr[0]\n",
    "    \n",
    "    # 어항 왼쪽부터 말아 올리기\n",
    "    arr_tmp1 = []\n",
    "    for i in range(N//2):\n",
    "        arr_tmp1.append(i+2)\n",
    "        arr_tmp1.append(i+2)\n",
    "    arr_tmp2 = [1]+arr_tmp1[:-1]\n",
    "    \n",
    "    for i in range(len(arr_tmp1)):\n",
    "        if N - arr_tmp1[i] * arr_tmp2[i] < arr_tmp1[i]:\n",
    "            i_count = i\n",
    "            break\n",
    "        for j in range(arr_tmp1[i]):\n",
    "            for k in range(arr_tmp2[i]):\n",
    "                tank[arr_tmp2[i]-1-k+1][j+arr_tmp1[i]*arr_tmp2[i]] = tank[j][k+arr_tmp1[i]*arr_tmp2[i]-arr_tmp2[i]]\n",
    "    \n",
    "    arr_tmp3 = []\n",
    "    for i in range(arr_tmp1[i_count]):\n",
    "        arr_tmp3.append(tank[i][arr_tmp1[i_count-1]*arr_tmp2[i_count-1]:])\n",
    "    return arr_tmp3\n",
    "\n",
    "# 3단계 : 물고기 수 정리하기\n",
    "def fish_arr(arr):\n",
    "    r = len(arr)\n",
    "    c = len(arr[0])\n",
    "    fish_arr = [[0]*c for _ in range(r)]\n",
    "    \n",
    "    for i in range(r):\n",
    "        for j in range(c):\n",
    "            if arr[i][j]==0: break\n",
    "            if i>0:\n",
    "                if arr[i][j]-arr[i-1][j]>=0:\n",
    "                    fish_arr[i][j] -= (arr[i][j]-arr[i-1][j])//5\n",
    "                else:\n",
    "                    fish_arr[i][j] += (arr[i-1][j]-arr[i][j])//5\n",
    "                if arr[i-1][j]-arr[i][j]>=0:\n",
    "                    fish_arr[i-1][j] -= (arr[i-1][j]-arr[i][j])//5\n",
    "                else:\n",
    "                    fish_arr[i-1][j] += (arr[i][j]-arr[i-1][j])//5\n",
    "            if j>0:\n",
    "                if arr[i][j]-arr[i][j-1]>=0:\n",
    "                    fish_arr[i][j] -= (arr[i][j]-arr[i][j-1])//5\n",
    "                else:\n",
    "                    fish_arr[i][j] += (arr[i][j-1]-arr[i][j])//5\n",
    "                if arr[i][j-1]-arr[i][j]>=0:\n",
    "                    fish_arr[i][j-1] -= (arr[i][j-1]-arr[i][j])//5\n",
    "                else:\n",
    "                    fish_arr[i][j-1] += (arr[i][j]-arr[i][j-1])//5\n",
    "    \n",
    "    return [[c+d for c,d in zip(a,b)] for a,b in zip(arr,fish_arr)]\n",
    "\n",
    "# 4단계 : 배열 일렬로 나열하기\n",
    "def one_low(arr):\n",
    "    arr_tmp = []\n",
    "    r = len(arr)\n",
    "    c = len(arr[0])\n",
    "    for i in range(c):\n",
    "        for j in range(r):\n",
    "            if arr[j][i]!=0:\n",
    "                arr_tmp.append(arr[j][i])\n",
    "    return arr_tmp\n",
    "\n",
    "# 5단계 : 배열 정리하기\n",
    "def arr_arr(arr):\n",
    "    arr_tmp1 = [[] for i in range(2)]\n",
    "    arr_tmp2 = [[] for i in range(4)]\n",
    "    \n",
    "    arr_tmp1[0] = arr[len(arr)//2:]\n",
    "    for i in range(len(arr)//2):\n",
    "        arr_tmp1[1].append(arr[len(arr)//2-1-i])\n",
    "    \n",
    "    arr_tmp2[0] = arr_tmp1[0][len(arr_tmp1[0])//2:]\n",
    "    arr_tmp2[1] = arr_tmp1[1][len(arr_tmp1[1])//2:]\n",
    "    for i in range(len(arr_tmp1[0])//2):\n",
    "        arr_tmp2[2].append(arr_tmp1[1][len(arr_tmp1[0])//2-1-i])\n",
    "        arr_tmp2[3].append(arr_tmp1[0][len(arr_tmp1[0])//2-1-i])\n",
    "    \n",
    "    return arr_tmp2\n",
    "\n",
    "\n",
    "N,K = map(int, input().split())\n",
    "arr = list(map(int, input().split()))\n",
    "\n",
    "answer=0\n",
    "\n",
    "while max(arr)-min(arr) > K:\n",
    "    arr1 = plus_one(arr, N)\n",
    "    arr2 = tank_arr(arr1, N)\n",
    "    arr3 = fish_arr(arr2)\n",
    "    arr4 = one_low(arr3)\n",
    "    arr5 = arr_arr(arr4)\n",
    "    arr6 = fish_arr(arr5)\n",
    "    arr = one_low(arr6)\n",
    "    answer+=1\n",
    "    \n",
    "print(answer)"
   ]
  },
  {
   "cell_type": "markdown",
   "metadata": {},
   "source": [
    "8 7\n",
    "5 2 3 14 9 2 11 8"
   ]
  },
  {
   "cell_type": "code",
   "execution_count": null,
   "metadata": {},
   "outputs": [],
   "source": []
  },
  {
   "cell_type": "code",
   "execution_count": null,
   "metadata": {},
   "outputs": [],
   "source": []
  }
 ],
 "metadata": {
  "kernelspec": {
   "display_name": "Python 3",
   "language": "python",
   "name": "python3"
  },
  "language_info": {
   "codemirror_mode": {
    "name": "ipython",
    "version": 3
   },
   "file_extension": ".py",
   "mimetype": "text/x-python",
   "name": "python",
   "nbconvert_exporter": "python",
   "pygments_lexer": "ipython3",
   "version": "3.8.5"
  }
 },
 "nbformat": 4,
 "nbformat_minor": 4
}
